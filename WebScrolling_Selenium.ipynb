{
 "cells": [
  {
   "cell_type": "code",
   "execution_count": 7,
   "metadata": {},
   "outputs": [],
   "source": [
    "import time\n",
    "from selenium import webdriver\n",
    "from bs4 import BeautifulSoup"
   ]
  },
  {
   "cell_type": "code",
   "execution_count": 8,
   "metadata": {},
   "outputs": [
    {
     "name": "stderr",
     "output_type": "stream",
     "text": [
      "C:\\Users\\rlawn\\anaconda3\\lib\\site-packages\\ipykernel_launcher.py:3: DeprecationWarning: executable_path has been deprecated, please pass in a Service object\n",
      "  This is separate from the ipykernel package so we can avoid doing imports until\n"
     ]
    }
   ],
   "source": [
    "# Use chrome web drive\n",
    "\n",
    "driver = webdriver.Chrome('./chromedriver.exe')\n",
    "time.sleep(5)\n",
    "driver.get('https://www.imdb.com/title/tt0111161/reviews?spoiler=hide&sort =userRating&dir=desc&ratingFilter=0')"
   ]
  },
  {
   "cell_type": "code",
   "execution_count": 9,
   "metadata": {},
   "outputs": [
    {
     "name": "stderr",
     "output_type": "stream",
     "text": [
      "C:\\Users\\rlawn\\anaconda3\\lib\\site-packages\\ipykernel_launcher.py:3: DeprecationWarning: find_element_by_* commands are deprecated. Please use find_element() instead\n",
      "  This is separate from the ipykernel package so we can avoid doing imports until\n",
      "C:\\Users\\rlawn\\anaconda3\\lib\\site-packages\\ipykernel_launcher.py:5: DeprecationWarning: find_element_by_* commands are deprecated. Please use find_element() instead\n",
      "  \"\"\"\n",
      "C:\\Users\\rlawn\\anaconda3\\lib\\site-packages\\ipykernel_launcher.py:7: DeprecationWarning: find_element_by_* commands are deprecated. Please use find_element() instead\n",
      "  import sys\n"
     ]
    }
   ],
   "source": [
    "# collect html data from url\n",
    "\n",
    "driver.find_element_by_xpath('//*[@id=\"load-more-trigger\"]').click() \n",
    "time.sleep(5)\n",
    "driver.find_element_by_xpath('//*[@id=\"load-more-trigger\"]').click() \n",
    "time.sleep(5)\n",
    "driver.find_element_by_xpath('//*[@id=\"load-more-trigger\"]').click() \n",
    "time.sleep(5)"
   ]
  },
  {
   "cell_type": "code",
   "execution_count": 15,
   "metadata": {},
   "outputs": [],
   "source": [
    "# Collect item with specific ID\n",
    "request = driver.page_source\n",
    "bs = BeautifulSoup(request, 'html.parser')\n",
    "reviewer_name = bs.findAll('span', 'display-name-link')\n",
    "review_date = bs.findAll('span', 'review-date')\n"
   ]
  },
  {
   "cell_type": "code",
   "execution_count": 17,
   "metadata": {},
   "outputs": [],
   "source": [
    "# Create txt file\n",
    "with open('./review_date.txt', 'w', encoding='UTF-8') as f:\n",
    "    for i in range(len(review_date)):\n",
    "        line = \"User: \" + reviewer_name[i].getText() + \" Date: \" + review_date[i].getText() + \"\\n\"\n",
    "        f.write(line)"
   ]
  },
  {
   "cell_type": "code",
   "execution_count": null,
   "metadata": {},
   "outputs": [],
   "source": []
  }
 ],
 "metadata": {
  "kernelspec": {
   "display_name": "Python 3",
   "language": "python",
   "name": "python3"
  },
  "language_info": {
   "codemirror_mode": {
    "name": "ipython",
    "version": 3
   },
   "file_extension": ".py",
   "mimetype": "text/x-python",
   "name": "python",
   "nbconvert_exporter": "python",
   "pygments_lexer": "ipython3",
   "version": "3.7.6"
  }
 },
 "nbformat": 4,
 "nbformat_minor": 4
}
